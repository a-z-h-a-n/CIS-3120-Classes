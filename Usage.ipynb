{
 "cells": [
  {
   "cell_type": "code",
   "execution_count": 1,
   "id": "6b88b4bc-a5c4-436d-9eed-8e95600f6d53",
   "metadata": {
    "editable": true,
    "slideshow": {
     "slide_type": ""
    },
    "tags": []
   },
   "outputs": [],
   "source": [
    "from Animal import Animal"
   ]
  },
  {
   "cell_type": "code",
   "execution_count": 7,
   "id": "738a52e3-faf1-4f92-8835-fed5b5e36dfe",
   "metadata": {
    "editable": true,
    "slideshow": {
     "slide_type": ""
    },
    "tags": []
   },
   "outputs": [
    {
     "name": "stdout",
     "output_type": "stream",
     "text": [
      "I am a Alligator\n",
      "\n",
      "\n",
      "I identify as a Male and I am attracted to males\n",
      "\n",
      "\n",
      "My name is Bob\n",
      "\n",
      "\n",
      "My favorite meal to eat is Fish\n",
      "I also enjoy Birds and Ducks\n",
      "\n",
      "\n",
      "I act Aggressive\n"
     ]
    },
    {
     "name": "stdin",
     "output_type": "stream",
     "text": [
      "Why act like this? Because I am an insecure alligator.\n"
     ]
    }
   ],
   "source": [
    "animal = Animal(\"Alligator\", \"Bob\", \"Male\", \"Fish\", \"Aggressive\" )\n",
    "animal.type()\n",
    "print(\"\\n\")\n",
    "animal.love(\"males\") \n",
    "print(\"\\n\")\n",
    "animal.NameLiking(\"Yes\")\n",
    "print(\"\\n\")\n",
    "animal.favorite_meals(\"Birds and Ducks\")\n",
    "print(\"\\n\")\n",
    "\n",
    "animal.PersonalityTrait()\n",
    "\n"
   ]
  },
  {
   "cell_type": "code",
   "execution_count": null,
   "id": "c81241bc-aba4-4f70-b845-1fc6694ccc9f",
   "metadata": {},
   "outputs": [],
   "source": []
  }
 ],
 "metadata": {
  "kernelspec": {
   "display_name": "Python 3 (ipykernel)",
   "language": "python",
   "name": "python3"
  },
  "language_info": {
   "codemirror_mode": {
    "name": "ipython",
    "version": 3
   },
   "file_extension": ".py",
   "mimetype": "text/x-python",
   "name": "python",
   "nbconvert_exporter": "python",
   "pygments_lexer": "ipython3",
   "version": "3.12.4"
  }
 },
 "nbformat": 4,
 "nbformat_minor": 5
}
